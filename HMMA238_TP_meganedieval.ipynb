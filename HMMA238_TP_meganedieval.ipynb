{
 "cells": [
  {
   "cell_type": "markdown",
   "metadata": {},
   "source": [
    "# TP noté 1 : Jeu de la vie"
   ]
  },
  {
   "cell_type": "markdown",
   "metadata": {},
   "source": [
    "## Exercice 1"
   ]
  },
  {
   "cell_type": "code",
   "execution_count": 13,
   "metadata": {},
   "outputs": [
    {
     "data": {
      "text/plain": [
       "'HMMA238_TP_meganedieval.ipynb'"
      ]
     },
     "execution_count": 13,
     "metadata": {},
     "output_type": "execute_result"
    }
   ],
   "source": [
    "#1)chaîne de caractères filename sous le format filename=HMMA238_TP_prenomnom.ipynb\n",
    "filename = 'HMMA238_TP_meganedieval.ipynb'\n",
    "filename"
   ]
  },
  {
   "cell_type": "code",
   "execution_count": 12,
   "metadata": {},
   "outputs": [
    {
     "data": {
      "text/plain": [
       "29"
      ]
     },
     "execution_count": 12,
     "metadata": {},
     "output_type": "execute_result"
    }
   ],
   "source": [
    "#2)variable qui compte le nombre de caractères dans la chaîne de caractères filename\n",
    "#la fonction len nous donne la longueur de la chaîne\n",
    "taille_str = len(filename)\n",
    "taille_str"
   ]
  },
  {
   "cell_type": "code",
   "execution_count": 14,
   "metadata": {},
   "outputs": [
    {
     "data": {
      "text/plain": [
       "5"
      ]
     },
     "execution_count": 14,
     "metadata": {},
     "output_type": "execute_result"
    }
   ],
   "source": [
    "#3)créaction d'une variable ma_graine qui vaut le reste de la division euclidienne de taille_str par 6\n",
    "ma_graine = taille_str % 6\n",
    "ma_graine"
   ]
  },
  {
   "cell_type": "markdown",
   "metadata": {},
   "source": [
    "Le jeu de la vie est un automate cellulaire mis au point par le mathématicien britannique John Horton Conway en 1970. Il constitue l'exemple le plus connu d'un automate cellulaire. Le \"jeu\" est en fait un jeu à zéro joueur, ce qui signifie que son évolution est déterminée par son état initial et ne nécéssite aucune intervention de la part d'un humain. On interagit avec le jeu de la vie en créant une configuration initiale; il ne reste plus alors qu'à observer son évolution.\n",
    "L'univers du jeu est initialement une grille orthogonale bidimensionnelle infinie de cellules carrées. Dans la suite du projet on supposera cependant que la grille est carrée de taille finie pour éviter toute difficulté. On supposera aussi que ke pourtour de la grille est toujours inactif/mort.\n",
    "\n",
    "Les cellules du jeu ne peuvent prendre qu'un état parmi l'un des deux états possibles : vivant (1) ou mort (0). \n",
    "\n",
    "Chaque cellule interagit avec ses huit cellules voisines (ce sont les cellules directement adjacentes horizontalement, verticalement ou en diagonale), comme indiqué sur la Figure 1. À chaque étape, les transitions suivantes se produisent :\n",
    "\n",
    "  + a) Toute cellule morte ayant exactement 3 voisins vivants devient une cellule vivante (naissance)\n",
    "  \n",
    "  + b) Toute cellule vivante avec 2 ou 3 voisins vivants reste vivante à la génération suivante (équilibre)\n",
    "  \n",
    "  + c) Toute cellule vivante ayant 4 voisins vivants meurt à la génération suivante (mort par étouffement)\n",
    "  \n",
    "  + d) Toute cellule vivante ayant 0 ou 1 voisin vivant décède à la génération suivante (mort par isolement)\n",
    "  \n",
    "Le modèle initial constitue la \"graine\" du système. La première génération est créée en appliquant les règles ci-dessus simultanément à chaque cellule de la graine - les naissances et les décès se produisent simultanément. Ainsi chaque génération est une fonction de la précédente. Les règles continuent d'être appliquées de manière répétée pour créer d'autres générations."
   ]
  },
  {
   "cell_type": "markdown",
   "metadata": {},
   "source": [
    "### Implémentation sans numpy"
   ]
  },
  {
   "cell_type": "markdown",
   "metadata": {},
   "source": [
    "On va fournir dessous le code pure Python pour coder ce jeu. Dans la suite on va coder les cellules vivantes par des 1 et les cellules mortes par des 0. \n",
    "Tout d'abord on définit la fonction calcul_nb_voisins :"
   ]
  },
  {
   "cell_type": "code",
   "execution_count": 2,
   "metadata": {},
   "outputs": [],
   "source": [
    "def calcul_nb_voisins(Z):\n",
    "    forme = len(Z), len(Z[0]) \n",
    "    N = [[0, ] * (forme[0]) for i in range(forme[1])] \n",
    "    for x in range(1, forme[0] - 1): \n",
    "        for y in range(1, forme[1] - 1): \n",
    "            N[x][y] = Z[x-1][y-1]+Z[x][y-1]+Z[x+1][y-1] \\\n",
    "            + Z[x-1][y] + 0 +Z[x+1][y] \\\n",
    "            + Z[x-1][y+1]+Z[x][y+1]+Z[x+1][y+1] \n",
    "    return N"
   ]
  },
  {
   "cell_type": "code",
   "execution_count": 47,
   "metadata": {},
   "outputs": [
    {
     "data": {
      "text/plain": [
       "[[0, 0, 0, 0, 0, 0],\n",
       " [0, 1, 3, 1, 2, 0],\n",
       " [0, 1, 5, 3, 3, 0],\n",
       " [0, 2, 3, 2, 2, 0],\n",
       " [0, 1, 2, 2, 1, 0],\n",
       " [0, 0, 0, 0, 0, 0]]"
      ]
     },
     "execution_count": 47,
     "metadata": {},
     "output_type": "execute_result"
    }
   ],
   "source": [
    "#4)On applique la fonction précédente à la liste Z\n",
    "#Création de la liste Z\n",
    "Z = [[0,0,0,0,0,0],\n",
    "     [0,0,0,1,0,0],\n",
    "     [0,1,0,1,0,0],\n",
    "     [0,0,1,1,0,0],\n",
    "     [0,0,0,0,0,0],\n",
    "     [0,0,0,0,0,0]]\n",
    "\n",
    "N=calcul_nb_voisins(Z)\n",
    "N"
   ]
  },
  {
   "cell_type": "markdown",
   "metadata": {},
   "source": [
    "La sortie obtenue indique pour chaque cellule (morte ou vivante) (i,j) son nombre de voisins.\n",
    "Par exemple la cellule (1,1) n'a pas de voisin tandis que la cellule (2,3) en a 3. La cellule (3,3) a 5 voisins. "
   ]
  },
  {
   "cell_type": "markdown",
   "metadata": {},
   "source": [
    "On définit ensuite la fonction iteration_jeu comme suit: "
   ]
  },
  {
   "cell_type": "code",
   "execution_count": 20,
   "metadata": {},
   "outputs": [
    {
     "data": {
      "text/plain": [
       "[[0, 0, 0, 0, 0, 0],\n",
       " [0, 0, 0, 0, 0, 0],\n",
       " [0, 0, 0, 0, 0, 0],\n",
       " [0, 0, 0, 1, 1, 0],\n",
       " [0, 0, 0, 1, 1, 0],\n",
       " [0, 0, 0, 0, 0, 0]]"
      ]
     },
     "execution_count": 20,
     "metadata": {},
     "output_type": "execute_result"
    }
   ],
   "source": [
    "def iteration_jeu(Z): \n",
    "    \"\"\"prend en entrée une matrice carrée\n",
    "    et renvoie en sortie une itération du jeu\"\"\"\n",
    "    forme = len(Z), len(Z[0]) \n",
    "    N = calcul_nb_voisins(Z) \n",
    "    for x in range(1,forme[0]-1): \n",
    "        for y in range(1,forme[1]-1): \n",
    "            if Z[x][y] == 1 and (N[x][y] < 2 or N[x][y] > 3): \n",
    "                Z[x][y] = 0 \n",
    "            elif Z[x][y] == 0 and N[x][y] == 3: \n",
    "                Z[x][y] = 1 \n",
    "    return Z"
   ]
  },
  {
   "cell_type": "markdown",
   "metadata": {},
   "source": [
    "Cette fonction va parcourir la grille et vérifier si la cellule et vivante et son nombre de voisin afin de déterminer l'état de la cellule au rang suivant.\n"
   ]
  }
 ],
 "metadata": {
  "kernelspec": {
   "display_name": "Python 3",
   "language": "python",
   "name": "python3"
  },
  "language_info": {
   "codemirror_mode": {
    "name": "ipython",
    "version": 3
   },
   "file_extension": ".py",
   "mimetype": "text/x-python",
   "name": "python",
   "nbconvert_exporter": "python",
   "pygments_lexer": "ipython3",
   "version": "3.7.4"
  }
 },
 "nbformat": 4,
 "nbformat_minor": 2
}
