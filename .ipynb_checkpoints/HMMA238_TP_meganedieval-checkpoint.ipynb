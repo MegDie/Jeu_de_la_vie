{
 "cells": [
  {
   "cell_type": "markdown",
   "metadata": {},
   "source": [
    "# TP noté 1 : Jeu de la vie"
   ]
  },
  {
   "cell_type": "markdown",
   "metadata": {},
   "source": [
    "## Exercice 1"
   ]
  },
  {
   "cell_type": "code",
   "execution_count": 13,
   "metadata": {},
   "outputs": [
    {
     "data": {
      "text/plain": [
       "'HMMA238_TP_meganedieval.ipynb'"
      ]
     },
     "execution_count": 13,
     "metadata": {},
     "output_type": "execute_result"
    }
   ],
   "source": [
    "#1)chaîne de caractères filename sous le format filename=HMMA238_TP_prenomnom.ipynb\n",
    "filename = 'HMMA238_TP_meganedieval.ipynb'\n",
    "filename"
   ]
  },
  {
   "cell_type": "code",
   "execution_count": 12,
   "metadata": {},
   "outputs": [
    {
     "data": {
      "text/plain": [
       "29"
      ]
     },
     "execution_count": 12,
     "metadata": {},
     "output_type": "execute_result"
    }
   ],
   "source": [
    "#2)variable qui compte le nombre de caractères dans la chaîne de caractères filename\n",
    "#la fonction len nous donne la longueur de la chaîne\n",
    "taille_str = len(filename)\n",
    "taille_str"
   ]
  },
  {
   "cell_type": "code",
   "execution_count": 14,
   "metadata": {},
   "outputs": [
    {
     "data": {
      "text/plain": [
       "5"
      ]
     },
     "execution_count": 14,
     "metadata": {},
     "output_type": "execute_result"
    }
   ],
   "source": [
    "#3)créaction d'une variable ma_graine qui vaut le reste de la division euclidienne de taille_str par 6\n",
    "ma_graine = taille_str % 6\n",
    "ma_graine"
   ]
  },
  {
   "cell_type": "markdown",
   "metadata": {},
   "source": []
  },
  {
   "cell_type": "markdown",
   "metadata": {},
   "source": [
    "### Implémentation sans `numpy`"
   ]
  },
  {
   "cell_type": "markdown",
   "metadata": {},
   "source": [
    "Ci-dessous se trouve le code pure Python pour coder ce jeu. Dans la suite codera les cellules vivantes par des 1 et les cellules mortes par des 0. \n",
    "Tout d'abord on définit la fonction *calcul_nb_voisins* :"
   ]
  },
  {
   "cell_type": "code",
   "execution_count": 20,
   "metadata": {},
   "outputs": [],
   "source": [
    "def calcul_nb_voisins(Z):\n",
    "    \n",
    "    \"\"\"Entrée: une liste de listes composées de 1 et de 0\n",
    "    \n",
    "       Sortie: nombre de voisins de chaque cellule\"\"\"\n",
    "    \n",
    "    forme = len(Z), len(Z[0]) \n",
    "    N = [[0, ] * (forme[0]) for i in range(forme[1])] \n",
    "    for x in range(1, forme[0] - 1): \n",
    "        for y in range(1, forme[1] - 1): \n",
    "            N[x][y] = Z[x-1][y-1]+Z[x][y-1]+Z[x+1][y-1] \\\n",
    "            + Z[x-1][y] + 0 +Z[x+1][y] \\\n",
    "            + Z[x-1][y+1]+Z[x][y+1]+Z[x+1][y+1] \n",
    "    return N"
   ]
  },
  {
   "cell_type": "code",
   "execution_count": 47,
   "metadata": {},
   "outputs": [
    {
     "data": {
      "text/plain": [
       "[[0, 0, 0, 0, 0, 0],\n",
       " [0, 1, 3, 1, 2, 0],\n",
       " [0, 1, 5, 3, 3, 0],\n",
       " [0, 2, 3, 2, 2, 0],\n",
       " [0, 1, 2, 2, 1, 0],\n",
       " [0, 0, 0, 0, 0, 0]]"
      ]
     },
     "execution_count": 47,
     "metadata": {},
     "output_type": "execute_result"
    }
   ],
   "source": [
    "#4)On applique la fonction précédente à la liste de listes Z\n",
    "#Création de la liste de listes Z\n",
    "Z = [[0,0,0,0,0,0],\n",
    "     [0,0,0,1,0,0],\n",
    "     [0,1,0,1,0,0],\n",
    "     [0,0,1,1,0,0],\n",
    "     [0,0,0,0,0,0],\n",
    "     [0,0,0,0,0,0]]\n",
    "\n",
    "N=calcul_nb_voisins(Z)\n",
    "N"
   ]
  },
  {
   "cell_type": "markdown",
   "metadata": {},
   "source": [
    "La sortie obtenue indique pour chaque cellule morte ou vivante (i,j) son nombre de voisins.\n",
    "Par exemple la cellule (1,1) n'a pas de voisin tandis que la cellule (2,3) en a 3. La cellule (3,3) a 5 voisins. "
   ]
  },
  {
   "cell_type": "markdown",
   "metadata": {},
   "source": [
    "On définit ensuite la fonction *iteration_jeu* comme suit: "
   ]
  },
  {
   "cell_type": "code",
   "execution_count": 21,
   "metadata": {},
   "outputs": [],
   "source": [
    "def iteration_jeu(Z): \n",
    "    \n",
    "    \"\"\"Entrée: une liste de listes composées de 1 ou de 0\n",
    "       \n",
    "       Sortie: une itération du jeu\"\"\"\n",
    "    \n",
    "    forme = len(Z), len(Z[0]) \n",
    "    N = calcul_nb_voisins(Z) \n",
    "    for x in range(1,forme[0]-1): \n",
    "        for y in range(1,forme[1]-1): \n",
    "            if Z[x][y] == 1 and (N[x][y] < 2 or N[x][y] > 3): \n",
    "                Z[x][y] = 0 \n",
    "            elif Z[x][y] == 0 and N[x][y] == 3: \n",
    "                Z[x][y] = 1 \n",
    "    return Z"
   ]
  },
  {
   "cell_type": "markdown",
   "metadata": {},
   "source": [
    "Cette fonction va parcourir la grille et vérifier si la cellule est vivante ou non et son nombre de voisin afin de déterminer l'état de la cellule au rang suivant."
   ]
  },
  {
   "cell_type": "code",
   "execution_count": 14,
   "metadata": {},
   "outputs": [],
   "source": [
    "import matplotlib.pylab as plt\n",
    "import numpy as np"
   ]
  },
  {
   "cell_type": "markdown",
   "metadata": {},
   "source": [
    "On souhaite maintenant représenter 9 itérations du jeu pour la liste Z"
   ]
  },
  {
   "cell_type": "code",
   "execution_count": 38,
   "metadata": {},
   "outputs": [
    {
     "data": {
      "image/png": "[encoded data removed]",
      "text/plain": [
       "<Figure size 720x360 with 10 Axes>"
      ]
     },
     "metadata": {
      "needs_background": "light"
     },
     "output_type": "display_data"
    }
   ],
   "source": [
    "#5)On va représenter chacune des 9 itérations du jeu grâce à une boucle for\n",
    "\n",
    "#par précaution on redéfinit Z\n",
    "Z = [[0,0,0,0,0,0],\n",
    "     [0,0,0,1,0,0],\n",
    "     [0,1,0,1,0,0],\n",
    "     [0,0,1,1,0,0],\n",
    "     [0,0,0,0,0,0],\n",
    "     [0,0,0,0,0,0]]\n",
    "\n",
    "plt.figure(figsize=(10,5))\n",
    "\n",
    "#On doit prélablement transformer nos listes en array pour pouvoir les traiter sous matplotlib\n",
    "Z = np.array(Z)\n",
    "\n",
    "for i in range (1,11):\n",
    "    plt.subplot(2,5,i)#Les itérations seront représentées sur 2 lignes et 5 colonnes\n",
    "    plt.imshow(Z)\n",
    "    Z_iterations_i = iteration_jeu(Z)\n",
    "    plt.title ('Etape ' + str(i-1))\n",
    "    "
   ]
  },
  {
   "cell_type": "markdown",
   "metadata": {},
   "source": [
    "Entre l'itération 0 et 4, on constate que les cellules vivantes se deplacent progressivement du milieu de la grille vers le côté en bas à droite de celle-ci. Après l'étape 7 il n'y a plus d'évolution de la grille puisqu'en effet, chaque cellule vivante est dans des conditions parfaites pour rester vivante: les 4 cellules restantes ont chacune 3 voisins. Dans cette situation, les celluleS morteS ont au plus 2 voisins ce qui n'est pas suffisant pour vivre."
   ]
  },
  {
   "cell_type": "markdown",
   "metadata": {},
   "source": [
    "### Implémentation avec `Numpy`"
   ]
  },
  {
   "cell_type": "code",
   "execution_count": 39,
   "metadata": {},
   "outputs": [],
   "source": [
    "vect = np.array([0,1,0,0,1,1]) \n",
    "nb_vect = np.zeros(vect.shape) \n",
    "nb_vect[1:-1] += (vect[:-2] + vect[2:])\n"
   ]
  }
 ],
 "metadata": {
  "kernelspec": {
   "display_name": "Python 3",
   "language": "python",
   "name": "python3"
  },
  "language_info": {
   "codemirror_mode": {
    "name": "ipython",
    "version": 3
   },
   "file_extension": ".py",
   "mimetype": "text/x-python",
   "name": "python",
   "nbconvert_exporter": "python",
   "pygments_lexer": "ipython3",
   "version": "3.7.4"
  }
 },
 "nbformat": 4,
 "nbformat_minor": 2
}
